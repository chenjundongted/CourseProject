{
 "cells": [
  {
   "cell_type": "code",
   "execution_count": 2,
   "id": "6a95fb2e",
   "metadata": {},
   "outputs": [],
   "source": [
    "from bs4 import BeautifulSoup\n",
    "from selenium import webdriver \n",
    "from selenium.webdriver.chrome.options import Options\n",
    "import re \n",
    "import urllib\n",
    "import time\n",
    "\n",
    "options = Options()\n",
    "options.headless = True\n",
    "driver = webdriver.Chrome('./chromedriver',options=options)\n",
    "\n",
    "#uses webdriver object to execute javascript code and get dynamically loaded webcontent\n",
    "def get_js_soup(url,driver):\n",
    "    driver.get(url)\n",
    "    res_html = driver.execute_script('return document.body.innerHTML')\n",
    "    soup = BeautifulSoup(res_html,'html.parser') #beautiful soup object to be used for parsing html content\n",
    "    return soup"
   ]
  },
  {
   "cell_type": "code",
   "execution_count": 21,
   "id": "e959b415",
   "metadata": {},
   "outputs": [],
   "source": [
    "def scrape_dir_page(dir_url,driver):\n",
    "    print ('-'*20,'Scraping directory page','-'*20)\n",
    "    new_links = []\n",
    "    soup = get_js_soup(dir_url,driver)\n",
    "    for link_holder in soup.find_all('li',class_='LandingRiver_li__Db7WD'):\n",
    "        if link_holder.find('article'):\n",
    "            rel_link = link_holder.find('a')['href']  #get url\n",
    "            new_links.append(rel_link)\n",
    "    print ('-'*20,'Found {} news urls'.format(len(new_links)),'-'*20)\n",
    "    return new_links"
   ]
  },
  {
   "cell_type": "code",
   "execution_count": 22,
   "id": "61a03ad1",
   "metadata": {},
   "outputs": [
    {
     "name": "stdout",
     "output_type": "stream",
     "text": [
      "-------------------- Scraping directory page --------------------\n",
      "-------------------- Found 20 news urls --------------------\n"
     ]
    }
   ],
   "source": [
    "dir_url = 'https://www.theatlantic.com/latest/'\n",
    "news_links = scrape_dir_page(dir_url,driver)"
   ]
  },
  {
   "cell_type": "code",
   "execution_count": 38,
   "id": "ecb79091",
   "metadata": {},
   "outputs": [],
   "source": [
    "def scrape_news(news_url,driver):\n",
    "    soup = get_js_soup(news_url,driver)   \n",
    "    title = soup.select(\"h1\")[0]\n",
    "    content = soup.find_all('p',class_=\"ArticleParagraph_root__wy3UI\")\n",
    "    content_str = \"\"\n",
    "    for p in content:\n",
    "        content_str += p.text\n",
    "    return title.text, content_str"
   ]
  },
  {
   "cell_type": "code",
   "execution_count": 39,
   "id": "815f4921",
   "metadata": {},
   "outputs": [
    {
     "name": "stdout",
     "output_type": "stream",
     "text": [
      "-------------------- Scraping news url 1/20 --------------------\n",
      "-------------------- Scraping news url 2/20 --------------------\n",
      "-------------------- Scraping news url 3/20 --------------------\n",
      "-------------------- Scraping news url 4/20 --------------------\n",
      "-------------------- Scraping news url 5/20 --------------------\n",
      "-------------------- Scraping news url 6/20 --------------------\n",
      "-------------------- Scraping news url 7/20 --------------------\n",
      "-------------------- Scraping news url 8/20 --------------------\n",
      "-------------------- Scraping news url 9/20 --------------------\n",
      "-------------------- Scraping news url 10/20 --------------------\n",
      "-------------------- Scraping news url 11/20 --------------------\n",
      "-------------------- Scraping news url 12/20 --------------------\n",
      "-------------------- Scraping news url 13/20 --------------------\n",
      "-------------------- Scraping news url 14/20 --------------------\n",
      "-------------------- Scraping news url 15/20 --------------------\n",
      "-------------------- Scraping news url 16/20 --------------------\n",
      "-------------------- Scraping news url 17/20 --------------------\n",
      "-------------------- Scraping news url 18/20 --------------------\n",
      "-------------------- Scraping news url 19/20 --------------------\n",
      "-------------------- Scraping news url 20/20 --------------------\n"
     ]
    }
   ],
   "source": [
    "output = {}\n",
    "tot_urls = len(news_links)\n",
    "for i,link in enumerate(news_links):\n",
    "    print ('-'*20,'Scraping news url {}/{}'.format(i+1,tot_urls),'-'*20)\n",
    "    title,content = scrape_news(link,driver)\n",
    "    output[title] = (content, link)"
   ]
  },
  {
   "cell_type": "code",
   "execution_count": 40,
   "id": "2346e88a",
   "metadata": {},
   "outputs": [],
   "source": [
    "def write_url(lst,file_):\n",
    "    with open(file_,'w') as f:\n",
    "        for key, value in lst.items():\n",
    "            f.write(key + \". \" + value[1] + \"\\n\")\n",
    "news_urls_file = 'theAtlantic#1205urls.txt'\n",
    "write_url(output,news_urls_file)\n",
    "\n",
    "def write_content(lst,file_):\n",
    "    with open(file_,'w') as f:\n",
    "        for key, value in lst.items():\n",
    "            f.write(key + \". \" + value[0] + \"\\n\")\n",
    "news_contents_file = 'theAtlantic#1205.txt'\n",
    "write_content(output,news_contents_file)"
   ]
  },
  {
   "cell_type": "code",
   "execution_count": null,
   "id": "f290bc01",
   "metadata": {},
   "outputs": [],
   "source": []
  }
 ],
 "metadata": {
  "kernelspec": {
   "display_name": "Python 3 (ipykernel)",
   "language": "python",
   "name": "python3"
  },
  "language_info": {
   "codemirror_mode": {
    "name": "ipython",
    "version": 3
   },
   "file_extension": ".py",
   "mimetype": "text/x-python",
   "name": "python",
   "nbconvert_exporter": "python",
   "pygments_lexer": "ipython3",
   "version": "3.7.11"
  }
 },
 "nbformat": 4,
 "nbformat_minor": 5
}
