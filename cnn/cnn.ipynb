{
 "cells": [
  {
   "cell_type": "code",
   "execution_count": 1,
   "id": "0b509ece",
   "metadata": {},
   "outputs": [],
   "source": [
    "from bs4 import BeautifulSoup\n",
    "from selenium import webdriver \n",
    "from selenium.webdriver.chrome.options import Options\n",
    "import re \n",
    "import urllib\n",
    "import time"
   ]
  },
  {
   "cell_type": "code",
   "execution_count": 2,
   "id": "fe992421",
   "metadata": {},
   "outputs": [],
   "source": [
    "options = Options()\n",
    "options.headless = True\n",
    "driver = webdriver.Chrome('./chromedriver',options=options)"
   ]
  },
  {
   "cell_type": "code",
   "execution_count": 3,
   "id": "8beb093e",
   "metadata": {},
   "outputs": [],
   "source": [
    "#uses webdriver object to execute javascript code and get dynamically loaded webcontent\n",
    "def get_js_soup(url,driver):\n",
    "    driver.get(url)\n",
    "    res_html = driver.execute_script('return document.body.innerHTML')\n",
    "    soup = BeautifulSoup(res_html,'html.parser') #beautiful soup object to be used for parsing html content\n",
    "    return soup"
   ]
  },
  {
   "cell_type": "code",
   "execution_count": 4,
   "id": "75bd4e91",
   "metadata": {},
   "outputs": [],
   "source": [
    "def scrape_dir_page(dir_url,driver):\n",
    "    print ('-'*20,'Scraping directory page','-'*20)\n",
    "    new_links = []\n",
    "    new_base_url = 'https://www.cnn.com'\n",
    "    soup = get_js_soup(dir_url,driver)\n",
    "    for link_holder in soup.find_all('li'):\n",
    "        if link_holder.find('article'):\n",
    "            rel_link = link_holder.find('article')['data-vr-contentbox'] #get url\n",
    "#             print(rel_link)\n",
    "            if rel_link.startswith('/2'):\n",
    "                new_links.append(new_base_url+rel_link)\n",
    "            elif rel_link.startswith('http://www.cnn.com/2'):\n",
    "                new_links.append(rel_link)\n",
    "    print ('-'*20,'Found {} news urls'.format(len(new_links)),'-'*20)\n",
    "    return new_links"
   ]
  },
  {
   "cell_type": "code",
   "execution_count": 5,
   "id": "d215dbf0",
   "metadata": {},
   "outputs": [
    {
     "name": "stdout",
     "output_type": "stream",
     "text": [
      "-------------------- Scraping directory page --------------------\n",
      "-------------------- Found 28 news urls --------------------\n"
     ]
    }
   ],
   "source": [
    "dir_url = 'https://www.cnn.com/'\n",
    "news_links = scrape_dir_page(dir_url,driver)"
   ]
  },
  {
   "cell_type": "code",
   "execution_count": 6,
   "id": "638d0de4",
   "metadata": {},
   "outputs": [],
   "source": [
    "def scrape_news(news_url,driver):\n",
    "    soup = get_js_soup(news_url,driver)   \n",
    "    title = soup.select(\"h1\")[0]\n",
    "    \n",
    "    content = soup.find_all(class_=\"zn-body__paragraph\")\n",
    "    content_str = \"\"\n",
    "    for p in content:\n",
    "        content_str += p.text\n",
    "    return title.contents[0], content_str"
   ]
  },
  {
   "cell_type": "code",
   "execution_count": null,
   "id": "f58b08ca",
   "metadata": {},
   "outputs": [
    {
     "name": "stdout",
     "output_type": "stream",
     "text": [
      "-------------------- Scraping news url 1/28 --------------------\n",
      "-------------------- Scraping news url 2/28 --------------------\n",
      "-------------------- Scraping news url 3/28 --------------------\n",
      "-------------------- Scraping news url 4/28 --------------------\n",
      "-------------------- Scraping news url 5/28 --------------------\n",
      "-------------------- Scraping news url 6/28 --------------------\n",
      "-------------------- Scraping news url 7/28 --------------------\n",
      "-------------------- Scraping news url 8/28 --------------------\n",
      "-------------------- Scraping news url 9/28 --------------------\n",
      "-------------------- Scraping news url 10/28 --------------------\n",
      "-------------------- Scraping news url 11/28 --------------------\n",
      "-------------------- Scraping news url 12/28 --------------------\n",
      "-------------------- Scraping news url 13/28 --------------------\n",
      "-------------------- Scraping news url 14/28 --------------------\n",
      "-------------------- Scraping news url 15/28 --------------------\n",
      "-------------------- Scraping news url 16/28 --------------------\n",
      "-------------------- Scraping news url 17/28 --------------------\n",
      "-------------------- Scraping news url 18/28 --------------------\n",
      "-------------------- Scraping news url 19/28 --------------------\n",
      "-------------------- Scraping news url 20/28 --------------------\n",
      "-------------------- Scraping news url 21/28 --------------------\n",
      "-------------------- Scraping news url 22/28 --------------------\n",
      "-------------------- Scraping news url 23/28 --------------------\n",
      "-------------------- Scraping news url 24/28 --------------------\n",
      "-------------------- Scraping news url 25/28 --------------------\n",
      "-------------------- Scraping news url 26/28 --------------------\n"
     ]
    }
   ],
   "source": [
    "output = {}\n",
    "tot_urls = len(news_links)\n",
    "for i,link in enumerate(news_links):\n",
    "    print ('-'*20,'Scraping news url {}/{}'.format(i+1,tot_urls),'-'*20)\n",
    "    title,content = scrape_news(link,driver)\n",
    "    output[title] = (content, link)"
   ]
  },
  {
   "cell_type": "code",
   "execution_count": 8,
   "id": "48478582",
   "metadata": {},
   "outputs": [],
   "source": [
    "def write_url(lst,file_):\n",
    "    with open(file_,'w') as f:\n",
    "        for key, value in lst.items():\n",
    "            f.write(key + \". \" + value[1] + \"\\n\")\n",
    "news_urls_file = 'cnn#1120urls.txt'\n",
    "write_url(output,news_urls_file)"
   ]
  },
  {
   "cell_type": "code",
   "execution_count": 9,
   "id": "d3e09320",
   "metadata": {},
   "outputs": [],
   "source": [
    "def write_content(lst,file_):\n",
    "    with open(file_,'w') as f:\n",
    "        for key, value in lst.items():\n",
    "            f.write(key + \". \" + value[0] + \"\\n\")\n",
    "news_contents_file = 'cnn#1120.txt'\n",
    "write_content(output,news_contents_file)"
   ]
  },
  {
   "cell_type": "code",
   "execution_count": null,
   "id": "8d87481a",
   "metadata": {},
   "outputs": [],
   "source": []
  }
 ],
 "metadata": {
  "kernelspec": {
   "display_name": "Python 3 (ipykernel)",
   "language": "python",
   "name": "python3"
  },
  "language_info": {
   "codemirror_mode": {
    "name": "ipython",
    "version": 3
   },
   "file_extension": ".py",
   "mimetype": "text/x-python",
   "name": "python",
   "nbconvert_exporter": "python",
   "pygments_lexer": "ipython3",
   "version": "3.7.11"
  }
 },
 "nbformat": 4,
 "nbformat_minor": 5
}
