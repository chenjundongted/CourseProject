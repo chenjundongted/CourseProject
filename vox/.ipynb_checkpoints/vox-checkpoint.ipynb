{
 "cells": [
  {
   "cell_type": "code",
   "execution_count": 85,
   "id": "0b509ece",
   "metadata": {},
   "outputs": [],
   "source": [
    "from bs4 import BeautifulSoup\n",
    "from selenium import webdriver \n",
    "from selenium.webdriver.chrome.options import Options\n",
    "import re \n",
    "import urllib\n",
    "import time"
   ]
  },
  {
   "cell_type": "code",
   "execution_count": 86,
   "id": "fe992421",
   "metadata": {},
   "outputs": [],
   "source": [
    "options = Options()\n",
    "options.headless = True\n",
    "driver = webdriver.Chrome('./chromedriver',options=options)"
   ]
  },
  {
   "cell_type": "code",
   "execution_count": 87,
   "id": "8beb093e",
   "metadata": {},
   "outputs": [],
   "source": [
    "#uses webdriver object to execute javascript code and get dynamically loaded webcontent\n",
    "def get_js_soup(url,driver):\n",
    "    driver.get(url)\n",
    "    res_html = driver.execute_script('return document.body.innerHTML')\n",
    "    soup = BeautifulSoup(res_html,'html.parser') #beautiful soup object to be used for parsing html content\n",
    "    return soup"
   ]
  },
  {
   "cell_type": "code",
   "execution_count": 88,
   "id": "75bd4e91",
   "metadata": {},
   "outputs": [],
   "source": [
    "def scrape_dir_page(dir_url,driver):\n",
    "    print ('-'*20,'Scraping directory page','-'*20)\n",
    "    new_links = []\n",
    "    new_base_url = 'https://www.vox.com/'\n",
    "    soup = get_js_soup(dir_url,driver)\n",
    "    for link_holder in soup.find_all('div', class_ = 'c-entry-box--compact'):\n",
    "        rel_link = link_holder.find('a')['href'] #get url\n",
    "#         print(rel_link)\n",
    "        new_links.append(rel_link)\n",
    "    print ('-'*20,'Found {} news urls'.format(len(new_links)),'-'*20)\n",
    "    return new_links"
   ]
  },
  {
   "cell_type": "code",
   "execution_count": 89,
   "id": "d215dbf0",
   "metadata": {},
   "outputs": [
    {
     "name": "stdout",
     "output_type": "stream",
     "text": [
      "-------------------- Scraping directory page --------------------\n",
      "-------------------- Found 49 news urls --------------------\n"
     ]
    }
   ],
   "source": [
    "dir_url = 'https://www.vox.com/'\n",
    "news_links = scrape_dir_page(dir_url,driver)"
   ]
  },
  {
   "cell_type": "code",
   "execution_count": 91,
   "id": "638d0de4",
   "metadata": {},
   "outputs": [],
   "source": [
    "def scrape_news(news_url,driver):\n",
    "    soup = get_js_soup(news_url,driver)   \n",
    "    title = soup.select(\"h1\")[0]\n",
    "    content = soup.find_all('p')\n",
    "    content_str = \"\"\n",
    "    for p in content:\n",
    "        if p.has_attr('id'):\n",
    "            content_str += p.text\n",
    "    return title.contents[0], content_str"
   ]
  },
  {
   "cell_type": "code",
   "execution_count": 92,
   "id": "f58b08ca",
   "metadata": {},
   "outputs": [
    {
     "name": "stdout",
     "output_type": "stream",
     "text": [
      "-------------------- Scraping news url 1/49 --------------------\n",
      "-------------------- Scraping news url 2/49 --------------------\n",
      "-------------------- Scraping news url 3/49 --------------------\n",
      "-------------------- Scraping news url 4/49 --------------------\n",
      "-------------------- Scraping news url 5/49 --------------------\n",
      "-------------------- Scraping news url 6/49 --------------------\n",
      "-------------------- Scraping news url 7/49 --------------------\n",
      "-------------------- Scraping news url 8/49 --------------------\n",
      "-------------------- Scraping news url 9/49 --------------------\n",
      "-------------------- Scraping news url 10/49 --------------------\n",
      "-------------------- Scraping news url 11/49 --------------------\n",
      "-------------------- Scraping news url 12/49 --------------------\n",
      "-------------------- Scraping news url 13/49 --------------------\n",
      "-------------------- Scraping news url 14/49 --------------------\n",
      "-------------------- Scraping news url 15/49 --------------------\n",
      "-------------------- Scraping news url 16/49 --------------------\n",
      "-------------------- Scraping news url 17/49 --------------------\n",
      "-------------------- Scraping news url 18/49 --------------------\n",
      "-------------------- Scraping news url 19/49 --------------------\n",
      "-------------------- Scraping news url 20/49 --------------------\n",
      "-------------------- Scraping news url 21/49 --------------------\n",
      "-------------------- Scraping news url 22/49 --------------------\n",
      "-------------------- Scraping news url 23/49 --------------------\n",
      "-------------------- Scraping news url 24/49 --------------------\n",
      "-------------------- Scraping news url 25/49 --------------------\n",
      "-------------------- Scraping news url 26/49 --------------------\n",
      "-------------------- Scraping news url 27/49 --------------------\n",
      "-------------------- Scraping news url 28/49 --------------------\n",
      "-------------------- Scraping news url 29/49 --------------------\n",
      "-------------------- Scraping news url 30/49 --------------------\n",
      "-------------------- Scraping news url 31/49 --------------------\n",
      "-------------------- Scraping news url 32/49 --------------------\n",
      "-------------------- Scraping news url 33/49 --------------------\n",
      "-------------------- Scraping news url 34/49 --------------------\n",
      "-------------------- Scraping news url 35/49 --------------------\n",
      "-------------------- Scraping news url 36/49 --------------------\n",
      "-------------------- Scraping news url 37/49 --------------------\n",
      "-------------------- Scraping news url 38/49 --------------------\n",
      "-------------------- Scraping news url 39/49 --------------------\n",
      "-------------------- Scraping news url 40/49 --------------------\n",
      "-------------------- Scraping news url 41/49 --------------------\n",
      "-------------------- Scraping news url 42/49 --------------------\n",
      "-------------------- Scraping news url 43/49 --------------------\n",
      "-------------------- Scraping news url 44/49 --------------------\n",
      "-------------------- Scraping news url 45/49 --------------------\n",
      "-------------------- Scraping news url 46/49 --------------------\n",
      "-------------------- Scraping news url 47/49 --------------------\n",
      "-------------------- Scraping news url 48/49 --------------------\n",
      "-------------------- Scraping news url 49/49 --------------------\n"
     ]
    }
   ],
   "source": [
    "output = {}\n",
    "tot_urls = len(news_links)\n",
    "for i,link in enumerate(news_links):\n",
    "    print ('-'*20,'Scraping news url {}/{}'.format(i+1,tot_urls),'-'*20)\n",
    "    title,content = scrape_news(link,driver)\n",
    "    output[title] = (content, link)"
   ]
  },
  {
   "cell_type": "code",
   "execution_count": 93,
   "id": "48478582",
   "metadata": {},
   "outputs": [],
   "source": [
    "def write_url(lst,file_):\n",
    "    with open(file_,'w') as f:\n",
    "        for key, value in lst.items():\n",
    "            f.write(key + \". \" + value[1] + \"\\n\")\n",
    "news_urls_file = 'vox#1120urls.txt'\n",
    "write_url(output,news_urls_file)"
   ]
  },
  {
   "cell_type": "code",
   "execution_count": 94,
   "id": "d3e09320",
   "metadata": {},
   "outputs": [],
   "source": [
    "def write_content(lst,file_):\n",
    "    with open(file_,'w') as f:\n",
    "        for key, value in lst.items():\n",
    "            f.write(key + \". \" + value[0] + \"\\n\")\n",
    "news_contents_file = 'vox#1120.txt'\n",
    "write_content(output,news_contents_file)"
   ]
  },
  {
   "cell_type": "code",
   "execution_count": null,
   "id": "8d87481a",
   "metadata": {},
   "outputs": [],
   "source": []
  }
 ],
 "metadata": {
  "kernelspec": {
   "display_name": "Python 3 (ipykernel)",
   "language": "python",
   "name": "python3"
  },
  "language_info": {
   "codemirror_mode": {
    "name": "ipython",
    "version": 3
   },
   "file_extension": ".py",
   "mimetype": "text/x-python",
   "name": "python",
   "nbconvert_exporter": "python",
   "pygments_lexer": "ipython3",
   "version": "3.7.11"
  }
 },
 "nbformat": 4,
 "nbformat_minor": 5
}
