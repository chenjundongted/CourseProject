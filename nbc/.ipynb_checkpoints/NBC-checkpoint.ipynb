{
 "cells": [
  {
   "cell_type": "code",
   "execution_count": 12,
   "id": "948a2f66",
   "metadata": {},
   "outputs": [],
   "source": [
    "from bs4 import BeautifulSoup\n",
    "from selenium import webdriver \n",
    "from selenium.webdriver.chrome.options import Options\n",
    "import re \n",
    "import urllib\n",
    "import time"
   ]
  },
  {
   "cell_type": "code",
   "execution_count": 13,
   "id": "1e0cc962",
   "metadata": {},
   "outputs": [],
   "source": [
    "options = Options()\n",
    "options.headless = True\n",
    "driver = webdriver.Chrome('./chromedriver',options=options)"
   ]
  },
  {
   "cell_type": "code",
   "execution_count": 14,
   "id": "d4e847e5",
   "metadata": {},
   "outputs": [],
   "source": [
    "#uses webdriver object to execute javascript code and get dynamically loaded webcontent\n",
    "def get_js_soup(url,driver):\n",
    "    driver.get(url)\n",
    "    res_html = driver.execute_script('return document.body.innerHTML')\n",
    "    soup = BeautifulSoup(res_html,'html.parser') #beautiful soup object to be used for parsing html content\n",
    "    return soup"
   ]
  },
  {
   "cell_type": "code",
   "execution_count": 15,
   "id": "dcb8c12f",
   "metadata": {},
   "outputs": [],
   "source": [
    "def scrape_dir_page(dir_url,driver):\n",
    "    print ('-'*20,'Scraping directory page','-'*20)\n",
    "    new_links = []\n",
    "    new_base_url = 'https://www.nbcnews.com/'\n",
    "    soup = get_js_soup(dir_url,driver)\n",
    "    for link_holder in soup.find_all('li',class_='alacarte__item'):\n",
    "        rel_link = link_holder.find('a')['href']  #get url\n",
    "        if rel_link.startswith('https://www.nbcnews.com/video/') or not rel_link.startswith('https://www.nbcnews.com/'):\n",
    "            continue\n",
    "        new_links.append(rel_link)\n",
    "    print ('-'*20,'Found {} news urls'.format(len(new_links)),'-'*20)\n",
    "    return new_links"
   ]
  },
  {
   "cell_type": "code",
   "execution_count": 16,
   "id": "8780fd46",
   "metadata": {},
   "outputs": [
    {
     "name": "stdout",
     "output_type": "stream",
     "text": [
      "-------------------- Scraping directory page --------------------\n",
      "-------------------- Found 36 news urls --------------------\n"
     ]
    }
   ],
   "source": [
    "dir_url = 'https://www.nbcnews.com/'\n",
    "news_links = scrape_dir_page(dir_url,driver)"
   ]
  },
  {
   "cell_type": "code",
   "execution_count": 17,
   "id": "e99ad6e9",
   "metadata": {},
   "outputs": [],
   "source": [
    "def scrape_news(news_url,driver):\n",
    "    soup = get_js_soup(news_url,driver)   \n",
    "    title = soup.select(\"h1\")[0]\n",
    "    \n",
    "    content = soup.find_all(class_=\"article-body__content\")\n",
    "    content_str = \"\"\n",
    "    for p in content:\n",
    "        content_str += p.text\n",
    "    return title.contents[0], content_str"
   ]
  },
  {
   "cell_type": "code",
   "execution_count": 18,
   "id": "be14d57f",
   "metadata": {},
   "outputs": [
    {
     "name": "stdout",
     "output_type": "stream",
     "text": [
      "-------------------- Scraping news url 1/36 --------------------\n",
      "-------------------- Scraping news url 2/36 --------------------\n",
      "-------------------- Scraping news url 3/36 --------------------\n",
      "-------------------- Scraping news url 4/36 --------------------\n",
      "-------------------- Scraping news url 5/36 --------------------\n",
      "-------------------- Scraping news url 6/36 --------------------\n",
      "-------------------- Scraping news url 7/36 --------------------\n",
      "-------------------- Scraping news url 8/36 --------------------\n",
      "-------------------- Scraping news url 9/36 --------------------\n",
      "-------------------- Scraping news url 10/36 --------------------\n",
      "-------------------- Scraping news url 11/36 --------------------\n",
      "-------------------- Scraping news url 12/36 --------------------\n",
      "-------------------- Scraping news url 13/36 --------------------\n",
      "-------------------- Scraping news url 14/36 --------------------\n",
      "-------------------- Scraping news url 15/36 --------------------\n",
      "-------------------- Scraping news url 16/36 --------------------\n",
      "-------------------- Scraping news url 17/36 --------------------\n",
      "-------------------- Scraping news url 18/36 --------------------\n",
      "-------------------- Scraping news url 19/36 --------------------\n",
      "-------------------- Scraping news url 20/36 --------------------\n",
      "-------------------- Scraping news url 21/36 --------------------\n",
      "-------------------- Scraping news url 22/36 --------------------\n",
      "-------------------- Scraping news url 23/36 --------------------\n",
      "-------------------- Scraping news url 24/36 --------------------\n",
      "-------------------- Scraping news url 25/36 --------------------\n",
      "-------------------- Scraping news url 26/36 --------------------\n",
      "-------------------- Scraping news url 27/36 --------------------\n",
      "-------------------- Scraping news url 28/36 --------------------\n",
      "-------------------- Scraping news url 29/36 --------------------\n",
      "-------------------- Scraping news url 30/36 --------------------\n",
      "-------------------- Scraping news url 31/36 --------------------\n",
      "-------------------- Scraping news url 32/36 --------------------\n",
      "-------------------- Scraping news url 33/36 --------------------\n",
      "-------------------- Scraping news url 34/36 --------------------\n",
      "-------------------- Scraping news url 35/36 --------------------\n",
      "-------------------- Scraping news url 36/36 --------------------\n"
     ]
    }
   ],
   "source": [
    "output = {}\n",
    "tot_urls = len(news_links)\n",
    "for i,link in enumerate(news_links):\n",
    "    print ('-'*20,'Scraping news url {}/{}'.format(i+1,tot_urls),'-'*20)\n",
    "    title,content = scrape_news(link,driver)\n",
    "    output[title] = (content, link)"
   ]
  },
  {
   "cell_type": "code",
   "execution_count": 19,
   "id": "7eee7bcb",
   "metadata": {},
   "outputs": [],
   "source": [
    "def write_url(lst,file_):\n",
    "    with open(file_,'w') as f:\n",
    "        for key, value in lst.items():\n",
    "            f.write(key + \". \" + value[1] + \"\\n\")\n",
    "news_urls_file = 'nbc#1121urls.txt'\n",
    "write_url(output,news_urls_file)"
   ]
  },
  {
   "cell_type": "code",
   "execution_count": 20,
   "id": "16525ede",
   "metadata": {},
   "outputs": [],
   "source": [
    "def write_content(lst,file_):\n",
    "    with open(file_,'w') as f:\n",
    "        for key, value in lst.items():\n",
    "            f.write(key + \". \" + value[0] + \"\\n\")\n",
    "news_contents_file = 'nbc#1121.txt'\n",
    "write_content(output,news_contents_file)"
   ]
  },
  {
   "cell_type": "code",
   "execution_count": null,
   "id": "3bb344b6",
   "metadata": {},
   "outputs": [],
   "source": []
  }
 ],
 "metadata": {
  "kernelspec": {
   "display_name": "Python 3 (ipykernel)",
   "language": "python",
   "name": "python3"
  },
  "language_info": {
   "codemirror_mode": {
    "name": "ipython",
    "version": 3
   },
   "file_extension": ".py",
   "mimetype": "text/x-python",
   "name": "python",
   "nbconvert_exporter": "python",
   "pygments_lexer": "ipython3",
   "version": "3.7.11"
  }
 },
 "nbformat": 4,
 "nbformat_minor": 5
}
